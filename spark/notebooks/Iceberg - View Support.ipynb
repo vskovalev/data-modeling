{
 "cells": [
  {
   "cell_type": "markdown",
   "id": "1041ae6f",
   "metadata": {},
   "source": [
    "![iceberg-logo](https://www.apache.org/logos/res/iceberg/iceberg.png)"
   ]
  },
  {
   "cell_type": "code",
   "execution_count": null,
   "id": "6a5c8206",
   "metadata": {},
   "outputs": [],
   "source": [
    "from pyspark.sql import SparkSession\n",
    "spark = SparkSession.builder.appName(\"Jupyter\").getOrCreate()\n",
    "\n",
    "spark"
   ]
  },
  {
   "cell_type": "markdown",
   "id": "6f9a9f41",
   "metadata": {},
   "source": [
    "## Load Two Months of NYC Taxi/Limousine Trip Data\n",
    "\n",
    "This notebook uses the New York City Taxi and Limousine Commission Trip Record Data available on the AWS Open Data Registry. This contains data of trips taken by taxis and for-hire vehicles in New York City. This data is stored in an iceberg table called `taxis`."
   ]
  },
  {
   "cell_type": "markdown",
   "id": "747bee98",
   "metadata": {},
   "source": [
    "To be able to rerun the notebook several times, let's drop the table and the views if they exist to start fresh."
   ]
  },
  {
   "cell_type": "code",
   "execution_count": null,
   "id": "930682ce",
   "metadata": {},
   "outputs": [],
   "source": [
    "%%sql\n",
    "\n",
    "CREATE DATABASE IF NOT EXISTS nyc.taxis;"
   ]
  },
  {
   "cell_type": "code",
   "execution_count": null,
   "id": "22ac5552",
   "metadata": {},
   "outputs": [],
   "source": [
    "%%sql\n",
    "\n",
    "DROP TABLE IF EXISTS nyc.taxis\n"
   ]
  },
  {
   "cell_type": "code",
   "execution_count": null,
   "id": "4cf5b4c0-89ac-4f79-8beb-fc55554bab22",
   "metadata": {},
   "outputs": [],
   "source": [
    "%%sql\n",
    "\n",
    "DROP VIEW IF EXISTS nyc.long_distances"
   ]
  },
  {
   "cell_type": "code",
   "execution_count": null,
   "id": "5a443155-85fe-4e7a-8216-9669e0765c93",
   "metadata": {},
   "outputs": [],
   "source": [
    "%%sql\n",
    "\n",
    "DROP VIEW IF EXISTS nyc.negative_amounts"
   ]
  },
  {
   "cell_type": "markdown",
   "id": "5816de2e",
   "metadata": {},
   "source": [
    "## Create the table"
   ]
  },
  {
   "cell_type": "code",
   "execution_count": null,
   "id": "f918310a",
   "metadata": {},
   "outputs": [],
   "source": [
    "%%sql\n",
    "\n",
    "CREATE TABLE nyc.taxis (\n",
    "    VendorID              bigint,\n",
    "    tpep_pickup_datetime  timestamp,\n",
    "    tpep_dropoff_datetime timestamp,\n",
    "    passenger_count       double,\n",
    "    trip_distance         double,\n",
    "    RatecodeID            double,\n",
    "    store_and_fwd_flag    string,\n",
    "    PULocationID          bigint,\n",
    "    DOLocationID          bigint,\n",
    "    payment_type          bigint,\n",
    "    fare_amount           double,\n",
    "    extra                 double,\n",
    "    mta_tax               double,\n",
    "    tip_amount            double,\n",
    "    tolls_amount          double,\n",
    "    improvement_surcharge double,\n",
    "    total_amount          double,\n",
    "    congestion_surcharge  double,\n",
    "    airport_fee           double\n",
    ")\n",
    "USING iceberg\n",
    "PARTITIONED BY (days(tpep_pickup_datetime))"
   ]
  },
  {
   "cell_type": "markdown",
   "id": "fcba103e",
   "metadata": {},
   "source": [
    "# Write a month of data"
   ]
  },
  {
   "cell_type": "code",
   "execution_count": null,
   "id": "1c37ca92",
   "metadata": {},
   "outputs": [],
   "source": [
    "df = spark.read.parquet(\"/home/iceberg/data/yellow_tripdata_2022-01.parquet\")\n",
    "df.writeTo(\"nyc.taxis\").append()"
   ]
  },
  {
   "cell_type": "code",
   "execution_count": null,
   "id": "a69152aa",
   "metadata": {},
   "outputs": [],
   "source": [
    "%%sql\n",
    "\n",
    "SELECT * FROM nyc.taxis"
   ]
  },
  {
   "cell_type": "markdown",
   "id": "fd854d56-33d5-46a5-b552-869479b8e188",
   "metadata": {},
   "source": [
    "# Create a view\n",
    "\n",
    "Let's create an Iceberg view to look at the longest distances travelled and the total amount of the trips."
   ]
  },
  {
   "cell_type": "code",
   "execution_count": null,
   "id": "8fade1a3",
   "metadata": {},
   "outputs": [],
   "source": [
    "%%sql\n",
    "\n",
    "CREATE VIEW nyc.long_distances (\n",
    "    vendor_id COMMENT 'Vendor ID',\n",
    "    pickup_date,\n",
    "    dropoff_date,\n",
    "    distance COMMENT 'Trip Distance',\n",
    "    total COMMENT 'Total amount')\n",
    "    AS SELECT VendorID, tpep_pickup_datetime, tpep_dropoff_datetime, trip_distance, total_amount FROM nyc.taxis ORDER BY trip_distance"
   ]
  },
  {
   "cell_type": "code",
   "execution_count": null,
   "id": "cfee5d8f-f862-4aa3-a096-8ff9ea66ba26",
   "metadata": {},
   "outputs": [],
   "source": [
    "%%sql\n",
    "\n",
    "SELECT * FROM nyc.long_distances"
   ]
  },
  {
   "cell_type": "markdown",
   "id": "6fce6bb4",
   "metadata": {},
   "source": [
    "## Update View to order results differently\n",
    "\n",
    "The output isn't as helpful as imagined, so let's update the view and change the order of columns and the ordering of the results."
   ]
  },
  {
   "cell_type": "code",
   "execution_count": null,
   "id": "74c10267-d65b-4650-ab92-02a978f5872a",
   "metadata": {},
   "outputs": [],
   "source": [
    "%%sql\n",
    "\n",
    "CREATE OR REPLACE VIEW nyc.long_distances (\n",
    "    distance COMMENT 'Trip Distance',\n",
    "    total COMMENT 'Total amount',\n",
    "    vendor_id COMMENT 'Vendor ID',\n",
    "    pickup_date,\n",
    "    dropoff_date)\n",
    "    AS SELECT trip_distance, total_amount, VendorID, tpep_pickup_datetime, tpep_dropoff_datetime\n",
    "    FROM nyc.taxis\n",
    "    WHERE trip_distance > 35 ORDER BY total_amount, trip_distance"
   ]
  },
  {
   "cell_type": "code",
   "execution_count": null,
   "id": "0e764a28-297f-4c8d-87dc-45ae63380d6e",
   "metadata": {},
   "outputs": [],
   "source": [
    "%%sql\n",
    "\n",
    "SELECT * FROM nyc.long_distances"
   ]
  },
  {
   "cell_type": "code",
   "execution_count": null,
   "id": "369b6e37-c7b3-4402-9087-2d9074b53dd7",
   "metadata": {},
   "outputs": [],
   "source": [
    "%%sql\n",
    "\n",
    "SELECT count(*) FROM nyc.long_distances"
   ]
  },
  {
   "cell_type": "markdown",
   "id": "4aa4a9cd",
   "metadata": {},
   "source": [
    "# Write a month of data\n",
    "\n",
    "Let's write another month of data and see how the results of the view change"
   ]
  },
  {
   "cell_type": "code",
   "execution_count": null,
   "id": "ed7a7b8f",
   "metadata": {},
   "outputs": [],
   "source": [
    "df = spark.read.parquet(\"/home/iceberg/data/yellow_tripdata_2022-02.parquet\")\n",
    "df.writeTo(\"nyc.taxis\").append()"
   ]
  },
  {
   "cell_type": "code",
   "execution_count": null,
   "id": "fbfb160c",
   "metadata": {},
   "outputs": [],
   "source": [
    "%%sql\n",
    "\n",
    "SELECT * FROM nyc.long_distances"
   ]
  },
  {
   "cell_type": "code",
   "execution_count": null,
   "id": "8085d47e-d629-408c-9753-95f58fac23c5",
   "metadata": {},
   "outputs": [],
   "source": [
    "%%sql\n",
    "\n",
    "SELECT count(*) FROM nyc.long_distances"
   ]
  },
  {
   "cell_type": "markdown",
   "id": "35bf8f88-a493-42c0-b7a9-3941f8ebf4c8",
   "metadata": {},
   "source": [
    "# Create another view\n",
    "It appears that there are trips with negative total amounts. Let's display these results in a separate view"
   ]
  },
  {
   "cell_type": "code",
   "execution_count": null,
   "id": "aa47bf43-2460-4990-88df-6040897c3386",
   "metadata": {},
   "outputs": [],
   "source": [
    "%%sql\n",
    "\n",
    "CREATE OR REPLACE VIEW nyc.negative_amounts (\n",
    "    total COMMENT 'Total amount',\n",
    "    distance COMMENT 'Trip Distance',\n",
    "    vendor_id COMMENT 'Vendor ID',\n",
    "    pickup_date,\n",
    "    dropoff_date)\n",
    "    AS SELECT total_amount, trip_distance, VendorID, tpep_pickup_datetime, tpep_dropoff_datetime\n",
    "    FROM nyc.taxis\n",
    "    WHERE total_amount < 0 ORDER BY total_amount"
   ]
  },
  {
   "cell_type": "code",
   "execution_count": null,
   "id": "d6c6a306-1752-4a6d-9213-d5b615110b1d",
   "metadata": {},
   "outputs": [],
   "source": [
    "%%sql\n",
    "\n",
    "SELECT * FROM nyc.negative_amounts"
   ]
  },
  {
   "cell_type": "markdown",
   "id": "65deb074",
   "metadata": {},
   "source": [
    "# Listing and describing views"
   ]
  },
  {
   "cell_type": "code",
   "execution_count": null,
   "id": "bab64f90",
   "metadata": {},
   "outputs": [],
   "source": [
    "%%sql\n",
    "\n",
    "SHOW VIEWS in nyc"
   ]
  },
  {
   "cell_type": "code",
   "execution_count": null,
   "id": "be3b1930-e140-4795-81d9-9e5abe626fb7",
   "metadata": {},
   "outputs": [],
   "source": [
    "%%sql\n",
    "\n",
    "SHOW VIEWS in nyc LIKE '*neg*'"
   ]
  },
  {
   "cell_type": "code",
   "execution_count": null,
   "id": "dfc2dcb3-4717-4730-94b6-18b9a239cf74",
   "metadata": {},
   "outputs": [],
   "source": [
    "%%sql\n",
    "\n",
    "DESCRIBE nyc.long_distances"
   ]
  },
  {
   "cell_type": "code",
   "execution_count": null,
   "id": "7653ef78-f419-462b-915b-0cbd9f62d473",
   "metadata": {},
   "outputs": [],
   "source": [
    "%%sql\n",
    "\n",
    "DESCRIBE EXTENDED nyc.long_distances"
   ]
  },
  {
   "cell_type": "markdown",
   "id": "b11e64c9",
   "metadata": {},
   "source": [
    "# Displaying the CREATE statement of a view"
   ]
  },
  {
   "cell_type": "code",
   "execution_count": null,
   "id": "1c4a942c",
   "metadata": {},
   "outputs": [],
   "source": [
    "%%sql\n",
    "\n",
    "SHOW CREATE TABLE nyc.long_distances"
   ]
  },
  {
   "cell_type": "markdown",
   "id": "42f6e042-00ce-4277-bf9a-16931f898d7b",
   "metadata": {},
   "source": [
    "# Altering and displaying properties of a view\n",
    "\n",
    "This will add a new property and also update the comment of the view. \n",
    "The comment will be shown when describing the view.\n",
    "The end of this section will also remove a property from the view."
   ]
  },
  {
   "cell_type": "code",
   "execution_count": null,
   "id": "fa823a4c-ede3-40d7-906e-27818070fa9b",
   "metadata": {},
   "outputs": [],
   "source": [
    "%%sql\n",
    "\n",
    "SHOW TBLPROPERTIES nyc.long_distances"
   ]
  },
  {
   "cell_type": "code",
   "execution_count": null,
   "id": "9c3b2fb4-4db9-408f-a36d-84970108dd5b",
   "metadata": {},
   "outputs": [],
   "source": [
    "%%sql\n",
    "\n",
    "ALTER VIEW nyc.long_distances SET TBLPROPERTIES ('key1' = 'val1', 'key2' = 'val2', 'comment' = 'This is a view comment')"
   ]
  },
  {
   "cell_type": "code",
   "execution_count": null,
   "id": "2a8dd804-d222-44e2-92b9-2069868e206a",
   "metadata": {},
   "outputs": [],
   "source": [
    "%%sql\n",
    "\n",
    "SHOW TBLPROPERTIES nyc.long_distances"
   ]
  },
  {
   "cell_type": "code",
   "execution_count": null,
   "id": "1950bd5d-a5fc-4ee1-a4a9-1242261232f0",
   "metadata": {},
   "outputs": [],
   "source": [
    "%%sql\n",
    "\n",
    "DESCRIBE EXTENDED nyc.long_distances"
   ]
  },
  {
   "cell_type": "code",
   "execution_count": null,
   "id": "88781989-0967-4349-b435-ad193c9697e7",
   "metadata": {},
   "outputs": [],
   "source": [
    "%%sql\n",
    "\n",
    "ALTER VIEW nyc.long_distances UNSET TBLPROPERTIES ('key1')"
   ]
  },
  {
   "cell_type": "code",
   "execution_count": null,
   "id": "e6864599-b4fa-4525-8304-f1cb3ee7144a",
   "metadata": {},
   "outputs": [],
   "source": [
    "%%sql\n",
    "\n",
    "SHOW TBLPROPERTIES nyc.long_distances"
   ]
  }
 ],
 "metadata": {
  "kernelspec": {
   "display_name": "Python 3 (ipykernel)",
   "language": "python",
   "name": "python3"
  },
  "language_info": {
   "codemirror_mode": {
    "name": "ipython",
    "version": 3
   },
   "file_extension": ".py",
   "mimetype": "text/x-python",
   "name": "python",
   "nbconvert_exporter": "python",
   "pygments_lexer": "ipython3",
   "version": "3.9.18"
  }
 },
 "nbformat": 4,
 "nbformat_minor": 5
}
