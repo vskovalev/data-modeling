{
 "cells": [
  {
   "cell_type": "markdown",
   "id": "1041ae6f",
   "metadata": {},
   "source": [
    "![iceberg-logo](https://www.apache.org/logos/res/iceberg/iceberg.png)"
   ]
  },
  {
   "cell_type": "code",
   "execution_count": null,
   "id": "6a5c8206",
   "metadata": {},
   "outputs": [],
   "source": [
    "from pyiceberg import __version__\n",
    "\n",
    "__version__"
   ]
  },
  {
   "cell_type": "markdown",
   "id": "6f9a9f41",
   "metadata": {},
   "source": [
    "## Load NYC Taxi/Limousine Trip Data\n",
    "\n",
    "For this notebook, we will use the New York City Taxi and Limousine Commision Trip Record Data that's available on the AWS Open Data Registry. This contains data of trips taken by taxis and for-hire vehicles in New York City. We'll save this into an iceberg table called `taxis`.\n",
    "\n",
    "First, load the Parquet file using PyArrow:"
   ]
  },
  {
   "cell_type": "code",
   "execution_count": null,
   "id": "1a890a18-6078-4574-8ade-7598ba91bf6b",
   "metadata": {},
   "outputs": [],
   "source": [
    "import pyarrow.parquet as pq\n",
    "\n",
    "tbl_taxis = pq.read_table('/home/iceberg/data/yellow_tripdata_2021-04.parquet')\n",
    "tbl_taxis"
   ]
  },
  {
   "cell_type": "markdown",
   "id": "63d2ac2a-7e21-4f5b-b357-a020797099fd",
   "metadata": {},
   "source": [
    "## Creating the table\n",
    "\n",
    "Next, create the namespace, and the `taxis` table from the schema that's derived from the Arrow schema:"
   ]
  },
  {
   "cell_type": "code",
   "execution_count": null,
   "id": "9fddb808",
   "metadata": {},
   "outputs": [],
   "source": [
    "from pyiceberg.catalog import load_catalog\n",
    "from pyiceberg.exceptions import NamespaceAlreadyExistsError\n",
    "\n",
    "cat = load_catalog('default')\n",
    "\n",
    "try:\n",
    "    cat.create_namespace('default')\n",
    "except NamespaceAlreadyExistsError:\n",
    "    pass"
   ]
  },
  {
   "cell_type": "code",
   "execution_count": null,
   "id": "430bd828-f856-4230-aff7-94274fbce96d",
   "metadata": {},
   "outputs": [],
   "source": [
    "from pyiceberg.exceptions import NoSuchTableError\n",
    "\n",
    "try:\n",
    "    cat.drop_table('default.taxis')\n",
    "except NoSuchTableError:\n",
    "    pass\n",
    "\n",
    "tbl = cat.create_table(\n",
    "    'default.taxis',\n",
    "    schema=tbl_taxis.schema\n",
    ")\n",
    "\n",
    "tbl"
   ]
  },
  {
   "cell_type": "markdown",
   "id": "56818a92-12c6-4806-a700-3071b9b3753c",
   "metadata": {},
   "source": [
    "## Write the actual data into the table\n",
    "\n",
    "This will create a new snapshot on the table:"
   ]
  },
  {
   "cell_type": "code",
   "execution_count": null,
   "id": "672a87b1-7132-489f-934c-8243016b20b4",
   "metadata": {},
   "outputs": [],
   "source": [
    "tbl.overwrite(tbl_taxis)\n",
    "\n",
    "tbl"
   ]
  },
  {
   "cell_type": "markdown",
   "id": "d87c4f8e-3d04-493b-9faf-292b39656a48",
   "metadata": {},
   "source": [
    "## Append more data\n",
    "\n",
    "Let's append another month of data to the table:"
   ]
  },
  {
   "cell_type": "code",
   "execution_count": null,
   "id": "0a9b5f47-d696-4742-9b72-b4ea203bd8de",
   "metadata": {},
   "outputs": [],
   "source": [
    "tbl.append(pq.read_table('/home/iceberg/data/yellow_tripdata_2021-05.parquet'))\n",
    "\n",
    "tbl"
   ]
  },
  {
   "cell_type": "markdown",
   "id": "efa23071-8207-4c3d-86bc-db5bf4d768c0",
   "metadata": {},
   "source": [
    "## Load data into a PyArrow Dataframe\n",
    "\n",
    "We'll fetch the table using the REST catalog that comes with the setup."
   ]
  },
  {
   "cell_type": "code",
   "execution_count": null,
   "id": "794de3a0",
   "metadata": {},
   "outputs": [],
   "source": [
    "tbl = cat.load_table('default.taxis')\n",
    "\n",
    "sc = tbl.scan(row_filter=\"tpep_pickup_datetime >= '2021-05-01T00:00:00.000000'\")"
   ]
  },
  {
   "cell_type": "code",
   "execution_count": null,
   "id": "f3ac7021",
   "metadata": {},
   "outputs": [],
   "source": [
    "df = sc.to_arrow().to_pandas()"
   ]
  },
  {
   "cell_type": "code",
   "execution_count": null,
   "id": "5e818e4a",
   "metadata": {},
   "outputs": [],
   "source": [
    "len(df)"
   ]
  },
  {
   "cell_type": "code",
   "execution_count": null,
   "id": "7034fa26",
   "metadata": {},
   "outputs": [],
   "source": [
    "df.info()"
   ]
  },
  {
   "cell_type": "code",
   "execution_count": null,
   "id": "32d7e6ef",
   "metadata": {},
   "outputs": [],
   "source": [
    "df"
   ]
  },
  {
   "cell_type": "code",
   "execution_count": null,
   "id": "6fb4b02a",
   "metadata": {},
   "outputs": [],
   "source": [
    "df.hist(column='fare_amount')"
   ]
  },
  {
   "cell_type": "code",
   "execution_count": null,
   "id": "81f7cc19",
   "metadata": {},
   "outputs": [],
   "source": [
    "import numpy as np\n",
    "from scipy import stats\n",
    "\n",
    "stats.zscore(df['fare_amount'])\n",
    "\n",
    "# Remove everything larger than 3 stddev\n",
    "df = df[(np.abs(stats.zscore(df['fare_amount'])) < 3)]\n",
    "# Remove everything below zero\n",
    "df = df[df['fare_amount'] > 0]"
   ]
  },
  {
   "cell_type": "code",
   "execution_count": null,
   "id": "18771ccb",
   "metadata": {},
   "outputs": [],
   "source": [
    "df.hist(column='fare_amount')"
   ]
  },
  {
   "cell_type": "markdown",
   "id": "886c8408",
   "metadata": {},
   "source": [
    "# DuckDB\n",
    "\n",
    "Use DuckDB to Query the PyArrow Dataframe directly."
   ]
  },
  {
   "cell_type": "code",
   "execution_count": null,
   "id": "5d5d6fb8",
   "metadata": {},
   "outputs": [],
   "source": [
    "%load_ext sql\n",
    "%config SqlMagic.autopandas = True\n",
    "%config SqlMagic.feedback = False\n",
    "%config SqlMagic.displaycon = False\n",
    "%sql duckdb:///:memory:"
   ]
  },
  {
   "cell_type": "code",
   "execution_count": null,
   "id": "4b6f9522",
   "metadata": {},
   "outputs": [],
   "source": [
    "%sql SELECT * FROM df LIMIT 20"
   ]
  },
  {
   "cell_type": "code",
   "execution_count": null,
   "id": "f5314f2b",
   "metadata": {},
   "outputs": [],
   "source": [
    "%%sql --save tip_amount --no-execute\n",
    "\n",
    "SELECT tip_amount\n",
    "FROM df"
   ]
  },
  {
   "cell_type": "code",
   "execution_count": null,
   "id": "f3dec260",
   "metadata": {},
   "outputs": [],
   "source": [
    "%sqlplot histogram --table df --column tip_amount --bins 22 --with tip_amount\n"
   ]
  },
  {
   "cell_type": "code",
   "execution_count": null,
   "id": "989827d9",
   "metadata": {},
   "outputs": [],
   "source": [
    "%%sql --save tip_amount_filtered --no-execute\n",
    "\n",
    "WITH tip_amount_stddev AS (\n",
    "    SELECT STDDEV_POP(tip_amount) AS tip_amount_stddev\n",
    "    FROM df\n",
    ")\n",
    "\n",
    "SELECT tip_amount\n",
    "FROM df, tip_amount_stddev\n",
    "WHERE tip_amount > 0\n",
    "  AND tip_amount < tip_amount_stddev * 3"
   ]
  },
  {
   "cell_type": "code",
   "execution_count": null,
   "id": "4d1df179",
   "metadata": {},
   "outputs": [],
   "source": [
    "%sqlplot histogram --table tip_amount_filtered --column tip_amount --bins 50 --with tip_amount_filtered\n"
   ]
  },
  {
   "cell_type": "markdown",
   "id": "08d2c62d",
   "metadata": {},
   "source": [
    "# Iceberg ❤️ PyArrow and DuckDB\n",
    "\n",
    "This notebook shows how you can load data into a PyArrow dataframe and query it using DuckDB easily. Iceberg allows you to take a slice out of the data that you need for your analysis, while reducing the time that you have to wait for the data and without polluting the memory with data that you're not going to use."
   ]
  },
  {
   "cell_type": "code",
   "execution_count": null,
   "id": "72a9c64d",
   "metadata": {},
   "outputs": [],
   "source": []
  }
 ],
 "metadata": {
  "kernelspec": {
   "display_name": "Python 3 (ipykernel)",
   "language": "python",
   "name": "python3"
  },
  "language_info": {
   "codemirror_mode": {
    "name": "ipython",
    "version": 3
   },
   "file_extension": ".py",
   "mimetype": "text/x-python",
   "name": "python",
   "nbconvert_exporter": "python",
   "pygments_lexer": "ipython3",
   "version": "3.9.19"
  }
 },
 "nbformat": 4,
 "nbformat_minor": 5
}
